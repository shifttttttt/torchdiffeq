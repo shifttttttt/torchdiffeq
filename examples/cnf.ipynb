{
 "cells": [
  {
   "cell_type": "markdown",
   "source": [
    "# Univarate"
   ],
   "metadata": {
    "collapsed": false,
    "pycharm": {
     "name": "#%% md\n"
    }
   }
  },
  {
   "cell_type": "code",
   "execution_count": 2,
   "metadata": {
    "collapsed": true,
    "pycharm": {
     "name": "#%%\n"
    }
   },
   "outputs": [],
   "source": [
    "import os\n",
    "import argparse\n",
    "import glob\n",
    "from PIL import Image\n",
    "import numpy as np\n",
    "import matplotlib\n",
    "\n",
    "# matplotlib.use('agg')\n",
    "import matplotlib.pyplot as plt\n",
    "from sklearn.datasets import make_circles\n",
    "import torch\n",
    "import torch.nn as nn\n",
    "import torch.optim as optim\n",
    "\n",
    "parser = argparse.ArgumentParser()\n",
    "parser.add_argument('--adjoint', action='store_true')\n",
    "parser.add_argument('--viz', action='store_true')\n",
    "parser.add_argument('--niters', type=int, default=1000)\n",
    "parser.add_argument('--lr', type=float, default=1e-3)\n",
    "parser.add_argument('--num_samples', type=int, default=512)\n",
    "parser.add_argument('--width', type=int, default=64)\n",
    "parser.add_argument('--hidden_dim', type=int, default=32)\n",
    "parser.add_argument('--gpu', type=int, default=0)\n",
    "parser.add_argument('--train_dir', type=str, default=None)\n",
    "parser.add_argument('--results_dir', type=str, default=\"./results\")\n",
    "args = parser.parse_args('--results_dir=./Univarite --train_dir=./Univarite --niters=2000 --lr=1e-4 --viz'.split())\n",
    "# args = parser.parse_args()\n",
    "\n",
    "if args.adjoint:\n",
    "    from torchdiffeq import odeint_adjoint as odeint\n",
    "else:\n",
    "    from torchdiffeq import odeint\n",
    "\n",
    "\n",
    "class CNF(nn.Module):\n",
    "    \"\"\"Adapted from the NumPy implementation at:\n",
    "    https://gist.github.com/rtqichen/91924063aa4cc95e7ef30b3a5491cc52\n",
    "    \"\"\"\n",
    "\n",
    "    def __init__(self, in_out_dim, hidden_dim, width):\n",
    "        super().__init__()\n",
    "        self.in_out_dim = in_out_dim\n",
    "        self.hidden_dim = hidden_dim\n",
    "        self.width = width\n",
    "        self.hyper_net = HyperNetwork(in_out_dim, hidden_dim, width)\n",
    "\n",
    "    def forward(self, t, states):\n",
    "        z = states[0]\n",
    "        logp_z = states[1]\n",
    "\n",
    "        batchsize = z.shape[0]\n",
    "\n",
    "        with torch.set_grad_enabled(True):\n",
    "            z.requires_grad_(True)\n",
    "\n",
    "            W, B, U = self.hyper_net(t)\n",
    "\n",
    "            Z = torch.unsqueeze(z, 0).repeat(self.width, 1, 1)\n",
    "\n",
    "            h = torch.tanh(torch.matmul(Z, W) + B)\n",
    "            dz_dt = torch.matmul(h, U).mean(0)\n",
    "\n",
    "            dlogp_z_dt = -trace_df_dz(dz_dt, z).view(batchsize, 1)\n",
    "\n",
    "        return (dz_dt, dlogp_z_dt)\n",
    "\n",
    "\n",
    "def trace_df_dz(f, z):\n",
    "    \"\"\"Calculates the trace of the Jacobian df/dz.\n",
    "    Stolen from: https://github.com/rtqichen/ffjord/blob/master/lib/layers/odefunc.py#L13\n",
    "    \"\"\"\n",
    "    sum_diag = 0.\n",
    "    for i in range(z.shape[1]):\n",
    "        sum_diag += torch.autograd.grad(f[:, i].sum(), z, create_graph=True)[0].contiguous()[:, i].contiguous()\n",
    "\n",
    "    return sum_diag.contiguous()\n",
    "\n",
    "\n",
    "class HyperNetwork(nn.Module):\n",
    "    \"\"\"Hyper-network allowing f(z(t), t) to change with time.\n",
    "\n",
    "    Adapted from the NumPy implementation at:\n",
    "    https://gist.github.com/rtqichen/91924063aa4cc95e7ef30b3a5491cc52\n",
    "    \"\"\"\n",
    "\n",
    "    def __init__(self, in_out_dim, hidden_dim, width):\n",
    "        super().__init__()\n",
    "\n",
    "        blocksize = width * in_out_dim\n",
    "\n",
    "        self.fc1 = nn.Linear(1, hidden_dim)\n",
    "        self.fc2 = nn.Linear(hidden_dim, hidden_dim)\n",
    "        self.fc3 = nn.Linear(hidden_dim, 3 * blocksize + width)\n",
    "\n",
    "        self.in_out_dim = in_out_dim\n",
    "        self.hidden_dim = hidden_dim\n",
    "        self.width = width\n",
    "        self.blocksize = blocksize\n",
    "\n",
    "    def forward(self, t):\n",
    "        # predict params\n",
    "        params = t.reshape(1, 1)\n",
    "        params = torch.tanh(self.fc1(params))\n",
    "        params = torch.tanh(self.fc2(params))\n",
    "        params = self.fc3(params)\n",
    "\n",
    "        # restructure\n",
    "        params = params.reshape(-1)\n",
    "        W = params[:self.blocksize].reshape(self.width, self.in_out_dim, 1)\n",
    "\n",
    "        U = params[self.blocksize:2 * self.blocksize].reshape(self.width, 1, self.in_out_dim)\n",
    "\n",
    "        G = params[2 * self.blocksize:3 * self.blocksize].reshape(self.width, 1, self.in_out_dim)\n",
    "        U = U * torch.sigmoid(G)\n",
    "\n",
    "        B = params[3 * self.blocksize:].reshape(self.width, 1, 1)\n",
    "        return [W, B, U]\n",
    "\n",
    "\n",
    "class RunningAverageMeter(object):\n",
    "    \"\"\"Computes and stores the average and current value\"\"\"\n",
    "\n",
    "    def __init__(self, momentum=0.99):\n",
    "        self.momentum = momentum\n",
    "        self.reset()\n",
    "\n",
    "    def reset(self):\n",
    "        self.val = None\n",
    "        self.avg = 0\n",
    "\n",
    "    def update(self, val):\n",
    "        if self.val is None:\n",
    "            self.avg = val\n",
    "        else:\n",
    "            self.avg = self.avg * self.momentum + val * (1 - self.momentum)\n",
    "        self.val = val\n",
    "\n",
    "\n",
    "dir = r'D:\\Python\\torchdiffeq-master\\examples\\MultiTripleNorm.csv'\n",
    "dir = r'D:\\Python\\torchdiffeq-master\\examples\\TripleNorm.csv'\n",
    "data = np.loadtxt(dir).reshape([-1,1])\n",
    "in_out_dim = 1\n",
    "\n",
    "def get_batch(num_samples):\n",
    "    # points, _ = make_circles(n_samples=num_samples, noise=0.06, factor=0.5)\n",
    "    rand_row = np.random.choice(np.arange(data.shape[0]),num_samples)\n",
    "    points = np.take(data, rand_row, axis=0)\n",
    "    x = torch.tensor(points).type(torch.float32).to(device)\n",
    "    logp_diff_t1 = torch.zeros(num_samples, 1).type(torch.float32).to(device)\n",
    "\n",
    "    return (x, logp_diff_t1)\n"
   ]
  },
  {
   "cell_type": "code",
   "execution_count": 3,
   "outputs": [
    {
     "name": "stdout",
     "output_type": "stream",
     "text": [
      "Loaded ckpt from ./Univarite\\ckpt.pth\n"
     ]
    }
   ],
   "source": [
    "t0 = 0\n",
    "t1 = 10\n",
    "device = torch.device('cuda:' + str(args.gpu)\n",
    "                      if torch.cuda.is_available() else 'cpu')\n",
    "device = 'cpu'\n",
    "# model\n",
    "func = CNF(in_out_dim=in_out_dim, hidden_dim=args.hidden_dim, width=args.width).to(device)\n",
    "optimizer = optim.Adam(func.parameters(), lr=args.lr)\n",
    "p_z0 = torch.distributions.MultivariateNormal(\n",
    "    loc=torch.tensor([0.0, 0.0]).to(device),\n",
    "    covariance_matrix=torch.tensor([[0.1, 0.0], [0.0, 0.1]]).to(device)\n",
    ")\n",
    "p_z0 = torch.distributions.Normal(\n",
    "    loc=torch.tensor([0.0]).to(device),\n",
    "    scale=torch.tensor([1]).to(device)\n",
    ")\n",
    "loss_meter = RunningAverageMeter()\n",
    "\n",
    "if args.train_dir is not None:\n",
    "    if not os.path.exists(args.train_dir):\n",
    "        os.makedirs(args.train_dir)\n",
    "    ckpt_path = os.path.join(args.train_dir, 'ckpt.pth')\n",
    "    if os.path.exists(ckpt_path):\n",
    "        checkpoint = torch.load(ckpt_path)\n",
    "        func.load_state_dict(checkpoint['func_state_dict'])\n",
    "        optimizer.load_state_dict(checkpoint['optimizer_state_dict'])\n",
    "        print('Loaded ckpt from {}'.format(ckpt_path))\n",
    "\n",
    "x, logp_diff_t1 = get_batch(args.num_samples)\n",
    "\n",
    "z_t, logp_diff_t = odeint(\n",
    "func,\n",
    "(x, logp_diff_t1),\n",
    "torch.tensor([t1, t0]).type(torch.float32).to(device),\n",
    "atol=1e-5,\n",
    "rtol=1e-5,\n",
    "method='dopri5',\n",
    ")\n",
    "\n",
    "z_t0, logp_diff_t0 = z_t[-1], logp_diff_t[-1]\n",
    "\n",
    "logp_x = p_z0.log_prob(z_t0).to(device).view(-1) - logp_diff_t0.view(-1)\n",
    "pdf = torch.exp(logp_x).unsqueeze(1)"
   ],
   "metadata": {
    "collapsed": false,
    "pycharm": {
     "name": "#%%\n"
    }
   }
  },
  {
   "cell_type": "markdown",
   "source": [
    "## 绘制概率密度图"
   ],
   "metadata": {
    "collapsed": false,
    "pycharm": {
     "name": "#%% md\n"
    }
   }
  },
  {
   "cell_type": "code",
   "execution_count": 4,
   "outputs": [],
   "source": [
    "import torch\n",
    "import torch.distributions as Dist\n",
    "import numpy as np\n",
    "from sklearn.neighbors import KernelDensity\n",
    "class TripleNorm():\n",
    "    def __init__(self):\n",
    "        self.loc1 = -10\n",
    "        self.scale1 = 3\n",
    "        self.loc2 = 0\n",
    "        self.scale2 = 4\n",
    "        self.loc3 = 10\n",
    "        self.scale3 = 2\n",
    "    def get_sample(self, num=64, DEVICE=\"cpu\"):\n",
    "        rand = torch.rand([num, 1], device=DEVICE)\n",
    "        sample1 = torch.randn([num, 1], device=DEVICE) * self.scale1 + self.loc1\n",
    "        sample2 = torch.randn([num, 1], device=DEVICE) * self.scale2 + self.loc2\n",
    "        sample3 = torch.randn([num, 1], device=DEVICE) * self.scale3 + self.loc3\n",
    "        return ((0 <= rand) * (rand < 0.33)) * sample1 + ((0.33 <= rand) * (rand < 0.66)) * sample2 + (\n",
    "                (0.66 <= rand) * (rand < 1)) * sample3\n",
    "    def get_pdf(self, x):\n",
    "        return torch.exp(Dist.Normal(self.loc1, self.scale1).log_prob(x)) / 3 + torch.exp(\n",
    "            Dist.Normal(self.loc2, self.scale2).log_prob(x)) / 3 + torch.exp(\n",
    "            Dist.Normal(self.loc3, self.scale3).log_prob(x)) / 3\n",
    "\n",
    "    def get_cdf(self, x):\n",
    "        return Dist.Normal(self.loc1, self.scale1).cdf(x) / 3 + Dist.Normal(self.loc2, self.scale2).cdf(\n",
    "            x) / 3 + Dist.Normal(self.loc3, self.scale3).cdf(x) / 3\n",
    "\n",
    "    def fit_sample(self, bandwidth=0.5):\n",
    "        self.kde = KernelDensity(kernel='gaussian', bandwidth=bandwidth).fit(self.sample.clone().cpu().detach().numpy())\n",
    "\n",
    "    def calcu_MLL(self,sample):\n",
    "        return -torch.log(self.get_pdf(sample)).mean()\n",
    "rel_pdf = TripleNorm().get_pdf(x)"
   ],
   "metadata": {
    "collapsed": false,
    "pycharm": {
     "name": "#%%\n"
    }
   }
  },
  {
   "cell_type": "code",
   "execution_count": 5,
   "outputs": [
    {
     "data": {
      "text/plain": "torch.Size([512, 1])"
     },
     "execution_count": 5,
     "metadata": {},
     "output_type": "execute_result"
    }
   ],
   "source": [
    "rel_pdf.shape"
   ],
   "metadata": {
    "collapsed": false,
    "pycharm": {
     "name": "#%%\n"
    }
   }
  },
  {
   "cell_type": "code",
   "execution_count": 7,
   "outputs": [
    {
     "data": {
      "text/plain": "<matplotlib.legend.Legend at 0x1a9483fcf40>"
     },
     "execution_count": 7,
     "metadata": {},
     "output_type": "execute_result"
    },
    {
     "data": {
      "text/plain": "<Figure size 640x480 with 1 Axes>",
      "image/png": "[encoded data removed]"
     },
     "metadata": {},
     "output_type": "display_data"
    }
   ],
   "source": [
    "plt.close()\n",
    "plt.subplot()\n",
    "model_pdf = torch.concatenate([x,pdf],1)\n",
    "# 获取第一列的值并对其进行排序\n",
    "values, indices = model_pdf[:, 0].sort()\n",
    "# 使用 index_select() 函数按行的顺序重新排列原始矩阵\n",
    "model_pdf = torch.index_select(model_pdf, 0, indices)\n",
    "\n",
    "\n",
    "rel_pdf = torch.concatenate([x,rel_pdf],1)\n",
    "# 获取第一列的值并对其进行排序\n",
    "values, indices = rel_pdf[:, 0].sort()\n",
    "# 使用 index_select() 函数按行的顺序重新排列原始矩阵\n",
    "rel_pdf = torch.index_select(rel_pdf, 0, indices)\n",
    "\n",
    "plt.plot(*model_pdf.detach().numpy().T,color='g',label='model_pdf')\n",
    "plt.plot(*rel_pdf.detach().numpy().T,color = 'r',label='rel_pdf')\n",
    "plt.legend()\n"
   ],
   "metadata": {
    "collapsed": false,
    "pycharm": {
     "name": "#%%\n"
    }
   }
  },
  {
   "cell_type": "markdown",
   "source": [
    "## 采样"
   ],
   "metadata": {
    "collapsed": false,
    "pycharm": {
     "name": "#%% md\n"
    }
   }
  },
  {
   "cell_type": "code",
   "execution_count": 14,
   "outputs": [
    {
     "data": {
      "text/plain": "(array([0.01347863, 0.03492193, 0.03553458, 0.02756993, 0.03737258,\n        0.02879527, 0.01899262, 0.0422739 , 0.0459499 , 0.02879526]),\n array([-17.198353 , -14.010437 , -10.822522 ,  -7.6346064,  -4.4466906,\n         -1.2587752,   1.9291403,   5.117056 ,   8.304972 ,  11.492887 ,\n         14.680802 ], dtype=float32),\n <BarContainer object of 10 artists>)"
     },
     "execution_count": 14,
     "metadata": {},
     "output_type": "execute_result"
    },
    {
     "data": {
      "text/plain": "<Figure size 640x480 with 2 Axes>",
      "image/png": "[encoded data removed]"
     },
     "metadata": {},
     "output_type": "display_data"
    }
   ],
   "source": [
    "z_t0 = p_z0.sample([512]).to(device)\n",
    "# plt.close()\n",
    "# plt.hist(z_t0.cpu().numpy(),density=True)\n",
    "z_t_samples, _ = odeint(\n",
    "            func,\n",
    "            (z_t0, logp_diff_t0),\n",
    "                            torch.tensor([t0, t1]).type(torch.float32).to(device),\n",
    "            atol=1e-5,\n",
    "            rtol=1e-5,\n",
    "            method='dopri5',\n",
    "        )\n",
    "samples = z_t_samples[-1]\n",
    "plt.close()\n",
    "plt.subplot(1,2,1)\n",
    "plt.title('rel_sample')\n",
    "plt.hist(x.cpu().detach().numpy(),density=True)\n",
    "plt.subplot(1,2,2)\n",
    "plt.title('model_sample')\n",
    "plt.hist(samples.cpu().detach().numpy(),density=True)"
   ],
   "metadata": {
    "collapsed": false,
    "pycharm": {
     "name": "#%%\n"
    }
   }
  }
 ],
 "metadata": {
  "kernelspec": {
   "name": "pycharm-61e4a384",
   "language": "python",
   "display_name": "PyCharm (PDNN)"
  },
  "language_info": {
   "codemirror_mode": {
    "name": "ipython",
    "version": 2
   },
   "file_extension": ".py",
   "mimetype": "text/x-python",
   "name": "python",
   "nbconvert_exporter": "python",
   "pygments_lexer": "ipython2",
   "version": "2.7.6"
  }
 },
 "nbformat": 4,
 "nbformat_minor": 0
}